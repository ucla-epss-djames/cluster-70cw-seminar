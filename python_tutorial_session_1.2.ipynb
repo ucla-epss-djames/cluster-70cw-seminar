{
 "cells": [
  {
   "cell_type": "markdown",
   "metadata": {},
   "source": [
    "# Controlling the flow of your programs\n",
    "\n",
    "During the course of the program, it's common to want the Python interpreter to choose what to do next based on whether certain conditions are met.  A [**control flow**](https://en.wikipedia.org/wiki/Control_flow) statement is a statement whose execution results in a choice being made as to which of two or more paths should be followed.\n",
    "\n",
    "## Using logic to control flow -- the `if` command\n",
    "\n",
    "One can control how a program proceeds by using **logical statements**.  For example, if you want to tell the interpreter to print the value of `y` provided the value of another variable `x` is negative, you can use an `if` statement in your code:\n",
    "\n",
    "    if x < 0:\n",
    "        print(y)\n",
    "        \n",
    "There are a couple of important things to note about how this statement is written.\n",
    "\n",
    "- Notice that the `if` statement on the first line ends with a colon, this is required for the interpreter to understand where the condition following the `if` ends.\n",
    "- The print statement on the second line is indented (by four spaces or a tab).  This is necessary for the Python interpreter to determine the **scope** of the if statement, namely which statements should be executed provided the condition following `if` is true.  This indented block for code can be of arbitrary length and therefore contain a program of arbitrary complexity."
   ]
  },
  {
   "cell_type": "markdown",
   "metadata": {},
   "source": [
    "### Exercises - predicting outcomes of programs with control flow statements\n",
    "\n",
    "1. For each of the following code blocks, predict what the result would be if the block were executed.\n",
    "2. Copy this cell over to your answer notebook.  Create a new coding cell below it, run each block, and compare the output to your prediction.  \n",
    "3. If your predictions don't match the results of running each block, make sure to investigate and understand why.\n",
    "\n",
    "#### Block 1\n",
    "\n",
    "    x = -3\n",
    "    y = 2\n",
    "    if x < 0:\n",
    "        print(y)\n",
    "\n",
    "#### Block 2\n",
    "\n",
    "    x = -3\n",
    "    y = 2\n",
    "    if x > y:\n",
    "        print(x)\n",
    "        print(x - y)\n",
    "    if x < y:\n",
    "        print(y)\n",
    "        print(x + y)\n",
    "        \n",
    "#### Block 3\n",
    "\n",
    "    x = 2\n",
    "    y = -3\n",
    "    x = y\n",
    "    y = 2\n",
    "    if x > y:\n",
    "        print(y)\n",
    "    if x < y:\n",
    "        print(x)\n",
    "    if x == y:\n",
    "        print(x + y - y + x)"
   ]
  },
  {
   "cell_type": "markdown",
   "metadata": {},
   "source": [
    "### Exercises - writing simple programs with control flow statements\n",
    "\n",
    "Below are some programs described in English sentences step-by-step.  Translate each program into working python code, and then run each program in its own new coding cell below to check that it's working properly.\n",
    "\n",
    "#### Program 1\n",
    "\n",
    "1. Assign the variables `x`, `y`, and `z` to have values `13`, `1`, and `17.1` respectively.\n",
    "2. If the numerical distance between `x` and `y` is less than or equal to `4`, print their sum.  Otherwise, print the value of `z`.\n",
    "\n",
    "#### Program 2\n",
    "\n",
    "1. Assign the variables `a` and `b` to have some values you specify.\n",
    "2. If both `a` and `b` are even, print `a` to the power of `b`.\n",
    "3. If both `a` and `b` are odd, print `b` to the power of `a`.\n",
    "4. If `a` is even and `b` is odd, or if `a` is odd and `b` is even, print the product of `a` and `b`."
   ]
  },
  {
   "cell_type": "markdown",
   "metadata": {},
   "source": [
    "## The `else` and `elif` commands"
   ]
  },
  {
   "cell_type": "markdown",
   "metadata": {},
   "source": [
    "The `if` command can be augmented by an `else` command that tells the interpreter what to do in the case that the statement right after `if` evaluates to `False`.  The default is that the interpreter simply ignores the indented code block after the colon, but in some cases you want to instruct the program to do something else in that case.  \n",
    "\n",
    "Suppose, for example, that you want the interpreter to take the absolute value of an `int` or `float`.  Mathematically, the absolute value is defined as $|x| = x$ *if* $x\\geq 0$ and $-x$ *otherwise*.  Notice that even this mathematical definition proceeds by cases controlled by \"if\" and \"otherwise\" which in a python program would be written with an `if` and `else` command as\n",
    "\n",
    "    if x >= 0:\n",
    "        print(x)\n",
    "    else:\n",
    "        print(-x)\n",
    "\n",
    "Let's try this out on an example and see if it works as desired:"
   ]
  },
  {
   "cell_type": "code",
   "execution_count": null,
   "metadata": {},
   "outputs": [],
   "source": [
    "x = -13\n",
    "\n",
    "if x >= 0:\n",
    "    print(x)\n",
    "else:\n",
    "    print(-x)"
   ]
  },
  {
   "cell_type": "markdown",
   "metadata": {},
   "source": [
    "Notice that the `else` command worked in a similar way to the `if` command; it must be followed by a colon, and the code to be executed on the next line after the `else` should be indented by four spaces.  However, there is no separate statement after the `else` but before the colon tbecause the indented code block following `else` is executed precisely when the statement after the preceding `if` evaluates to `False`.\n",
    "\n",
    "What if you want to write a piece of code that branches in a more complicated way than just according to whether a single statement is true or false?  For example, suppose you want to implement the \"signum\" (aka sign) function which is defined as follows: if $x > 0$, then $\\mathrm{sgn}(x) = +1$, otherwise if $x = 0$ then $\\mathrm{sgn}(x) = 0$, and otherwise $\\mathrm{sgn}(x) = -1$.  This sentence defining the signum function is quite easy to translate into python code as follows:\n",
    "\n",
    "    if x > 0:\n",
    "        print(1)\n",
    "    elif x == 0:\n",
    "        print(0)\n",
    "    else:\n",
    "        print(-1)\n",
    "\n",
    "Run the following cell to see the code in action.  Change the value of `x` a couple of times in the code to verify that it's working the way you'd expect it to."
   ]
  },
  {
   "cell_type": "code",
   "execution_count": null,
   "metadata": {},
   "outputs": [],
   "source": [
    "x = 0\n",
    " \n",
    "if x > 0:\n",
    "    print(1)\n",
    "elif x == 0:\n",
    "    print(0)\n",
    "else:\n",
    "    print(-1)"
   ]
  },
  {
   "cell_type": "markdown",
   "metadata": {},
   "source": [
    "## Using loops to control flow - getting the computer to repeat repeat repeat repeat ..."
   ]
  },
  {
   "cell_type": "markdown",
   "metadata": {},
   "source": [
    "Essentially every nontrivial, useful algorithm that one wishes to implement on a computer takes advantage of the fact that a computer can execute instructions in succession very quickly, and therefore a computer is an ideal device for performing repetitive tasks.  For example, if you wanted to manually compute the sum of all numbers from 1 to 1000 by brute force addition, starting from 1 and adding 2 then adding 3 etc., this would take quite a while.  But for a computer, especially a modern computer, this is a piece of cake.  In order to do this sort of thing, it's often appropriate to use a **loop**.  In python, there are two main kinds of loops that one might generally find useful: **for loops**, which tell python to repeat a certain code block according to a pre-specified list of steps, and **while loops** which tell python to repeat a code block as long as a certain condition evaluates to true.\n",
    "\n",
    "As an example of a simple `for` loop, let's tell the interpreter to add all of the numbers from 1 to 4:"
   ]
  },
  {
   "cell_type": "code",
   "execution_count": null,
   "metadata": {},
   "outputs": [],
   "source": [
    "total = 0\n",
    "\n",
    "for n in range(5):\n",
    "    total += n\n",
    "\n",
    "print(total)"
   ]
  },
  {
   "cell_type": "markdown",
   "metadata": {},
   "source": [
    "Here's what happened in that cell:\n",
    "\n",
    "1. The variable `total` was assigned the integer value 0.\n",
    "2. The `for n in range(5)` statement tells the interpreter \"consider the numbers 0, 1, ..., 5 - 1, and exectute the instructions on the code block starting on the next line for each number in that sequence\"\n",
    "3. The code block that starts indented on the next line tells the interpreter to increase the value of the variable `total` by the amount `n` in each iteration of the loop.\n",
    "4. The print statement at the end is not indented, so it's not included in the loop code block.  Because of this, it is executed after the loop is finished.  Since the value of total has increased by `n` on each iteration of the loop, it's value after the loop is finished is 0 + 0 + 1 + 2 + 3 + 4 = 10, so that's the number that's printed.\n",
    "\n",
    "We can see how the loop is operating a bit more clearly if we insert some print statements in the loop code block.  Execute the code in the cell below, but before you do so, try to think to yourself what you'll see in the output when the cell is run."
   ]
  },
  {
   "cell_type": "code",
   "execution_count": null,
   "metadata": {},
   "outputs": [],
   "source": [
    "total = 0\n",
    "\n",
    "for n in range(5):\n",
    "    print(\"The current value of n is\", n)\n",
    "    total += n\n",
    "    print(\"The modified value of total is\", total)\n",
    "\n",
    "print(total)"
   ]
  },
  {
   "cell_type": "markdown",
   "metadata": {},
   "source": [
    "The same thing can be done with a `while` loop as follows:"
   ]
  },
  {
   "cell_type": "code",
   "execution_count": null,
   "metadata": {},
   "outputs": [],
   "source": [
    "current_number = 1\n",
    "total = 0\n",
    "\n",
    "while current_number < 5:\n",
    "    total += current_number\n",
    "    current_number += 1\n",
    "print(total)"
   ]
  },
  {
   "cell_type": "markdown",
   "metadata": {},
   "source": [
    "Can you see what changed and explain why it also gave the same answer?\n",
    "\n",
    "We said before that it should be a piece of cake for the computer to add the numbers from 1 to 1000, let's put our money where our mouth is and try it out:"
   ]
  },
  {
   "cell_type": "code",
   "execution_count": null,
   "metadata": {},
   "outputs": [],
   "source": [
    "current_number = 1\n",
    "total = 0\n",
    "\n",
    "while current_number <= 1000:\n",
    "    total += current_number\n",
    "    current_number += 1\n",
    "print(total)"
   ]
  },
  {
   "cell_type": "markdown",
   "metadata": {},
   "source": [
    "Wow that was fast!  Let's go up an order of magnitude and sum all numbers from 1 to 10000 and see how fast that finishes"
   ]
  },
  {
   "cell_type": "code",
   "execution_count": null,
   "metadata": {},
   "outputs": [],
   "source": [
    "current_number = 1\n",
    "total = 0\n",
    "\n",
    "while current_number <= 10000:\n",
    "    total += current_number\n",
    "    current_number += 1\n",
    "print(total)"
   ]
  },
  {
   "cell_type": "markdown",
   "metadata": {},
   "source": [
    "Still extremely fast!  Ok, let's go up another three orders of magnitude"
   ]
  },
  {
   "cell_type": "code",
   "execution_count": null,
   "metadata": {},
   "outputs": [],
   "source": [
    "current_number = 1\n",
    "total = 0\n",
    "\n",
    "while current_number <= 10000000:\n",
    "    total += current_number\n",
    "    current_number += 1\n",
    "print(total)"
   ]
  },
  {
   "cell_type": "markdown",
   "metadata": {},
   "source": [
    "All right well now the computer had to think a bit.  Let's go one higher just to make the computer try a bit harder"
   ]
  },
  {
   "cell_type": "code",
   "execution_count": null,
   "metadata": {},
   "outputs": [],
   "source": [
    "current_number = 1\n",
    "total = 0\n",
    "\n",
    "while current_number <= 100000000:\n",
    "    total += current_number\n",
    "    current_number += 1\n",
    "print(total)"
   ]
  },
  {
   "cell_type": "markdown",
   "metadata": {},
   "source": [
    "On my machine, that took about 20 seconds."
   ]
  },
  {
   "cell_type": "markdown",
   "metadata": {},
   "source": [
    "### Exercises - predicting outcomes of programs that contain loops\n",
    "\n",
    "- For each of the code blocks below, predict what the output will be.  \n",
    "- After committing to a prediction and writing it down in your answer notebook, create a new cell and run each code block in its own cell.  Run the cell, and compare your prediction to the result of the program.\n",
    "- If you prediction doesn't agree with the result of the program, figure out why.\n",
    "\n",
    "#### Block 1\n",
    "\n",
    "    for n in range(10):\n",
    "        print(n+1)\n",
    "        \n",
    "#### Block 2\n",
    "\n",
    "    for n in range(6):\n",
    "        print(n % 2)\n",
    "        \n",
    "#### Block 3\n",
    "\n",
    "    for n in range(13):\n",
    "        if n % 2 == 0:\n",
    "            print(n)\n",
    "        else:\n",
    "            print(\"I don't like number\", n)\n",
    "\n",
    "#### Block 4\n",
    "\n",
    "    n = 0\n",
    "    while n < 6:\n",
    "        print(n ** 2)\n",
    "        n += 1\n",
    "        \n",
    "#### Block 5\n",
    "\n",
    "    n = 40\n",
    "    while n > 0:\n",
    "        if n % 5 == 0:\n",
    "            print(n % 3)\n",
    "        n -= 4\n",
    "    print(\"What a strange program\")"
   ]
  },
  {
   "cell_type": "markdown",
   "metadata": {},
   "source": [
    "### Exercises - writing programs that repeat using loops\n",
    "\n",
    "1. Using a while loop, print out all of the odd, positive integers less than 17.\n",
    "2. Using a for loop, print out all of the odd, positive integers less than 17.\n",
    "3. Write program that finds each even integer greater than 57 and less than 97, and each time it gets to one of these numbers, it prints out `This is a fun number!`.\n",
    "3. Write a program that prints out the square of every even number greater than 0 and less than 15.\n",
    "4. Write a program that prints out the first 10 Fibonnacci numbers.\n",
    "5. Write a program in which the user can specify a positive integer $n$, and the program will output the $n^\\mathrm{th}$ Fibonacci number."
   ]
  }
 ],
 "metadata": {
  "anaconda-cloud": {},
  "kernelspec": {
   "display_name": "Python 3 (ipykernel)",
   "language": "python",
   "name": "python3"
  },
  "language_info": {
   "codemirror_mode": {
    "name": "ipython",
    "version": 3
   },
   "file_extension": ".py",
   "mimetype": "text/x-python",
   "name": "python",
   "nbconvert_exporter": "python",
   "pygments_lexer": "ipython3",
   "version": "3.10.8"
  }
 },
 "nbformat": 4,
 "nbformat_minor": 4
}
